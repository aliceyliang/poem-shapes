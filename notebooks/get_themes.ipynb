{
 "cells": [
  {
   "cell_type": "code",
   "execution_count": 1,
   "metadata": {},
   "outputs": [],
   "source": [
    "import json\n",
    "import pandas as pd\n",
    "from bs4 import BeautifulSoup\n",
    "import requests\n",
    "import datetime as dt\n",
    "import time"
   ]
  },
  {
   "cell_type": "code",
   "execution_count": 17,
   "metadata": {},
   "outputs": [],
   "source": [
    "def get_theme_list():\n",
    "    r = requests.get(\"https://api.poets.org/api/taxonomy_term/themes\")\n",
    "    themes_raw = r.json()['data']\n",
    "    return [{'id': t['attributes']['drupal_internal__tid'], 'name': t['attributes']['name']} for t in themes_raw]"
   ]
  },
  {
   "cell_type": "code",
   "execution_count": 20,
   "metadata": {},
   "outputs": [],
   "source": [
    "themes = get_theme_list()"
   ]
  },
  {
   "cell_type": "code",
   "execution_count": 22,
   "metadata": {},
   "outputs": [],
   "source": [
    "r = requests.get(\"https://api.poets.org/api/poems?field_poem_themes_target_id=851&page=1\")"
   ]
  },
  {
   "cell_type": "code",
   "execution_count": 55,
   "metadata": {},
   "outputs": [],
   "source": [
    "def get_json_poems(json):\n",
    "    poems = json['rows']\n",
    "    return pd.DataFrame(poems)\n",
    "\n",
    "def get_theme_poems(id):\n",
    "    df = pd.DataFrame()\n",
    "    r = requests.get(\"https://api.poets.org/api/poems?field_poem_themes_target_id={}&page=1\".format(id))\n",
    "    data = r.json()\n",
    "    df = df.append(get_json_poems(data))\n",
    "    df['page'] = 1\n",
    "    max_page = data['pager']['total_pages']\n",
    "    for i in range(2, max_page):\n",
    "        r = requests.get(\"https://api.poets.org/api/poems?field_poem_themes_target_id={}&page={}\".format(id, i))\n",
    "        new = get_json_poems(r.json())\n",
    "        new['page'] = i\n",
    "        df = df.append(new)\n",
    "    df = df.reset_index().drop(columns=['index'])\n",
    "    df['theme_id'] = id\n",
    "    return df"
   ]
  },
  {
   "cell_type": "code",
   "execution_count": 64,
   "metadata": {},
   "outputs": [],
   "source": [
    "def get_all_themes(themes):\n",
    "    df = pd.DataFrame()\n",
    "    for t in themes:\n",
    "        new_df = get_theme_poems(t['id'])\n",
    "        df = df.append(new_df)\n",
    "        print(t)\n",
    "    return df"
   ]
  },
  {
   "cell_type": "code",
   "execution_count": 65,
   "metadata": {},
   "outputs": [
    {
     "name": "stdout",
     "output_type": "stream",
     "text": [
      "{'id': 851, 'name': 'Afterlife'}\n",
      "{'id': 856, 'name': 'Aging'}\n",
      "{'id': 861, 'name': 'Ambition'}\n",
      "{'id': 866, 'name': 'America'}\n",
      "{'id': 871, 'name': 'American Revolution'}\n",
      "{'id': 876, 'name': 'Ancestry'}\n",
      "{'id': 881, 'name': 'Anger'}\n",
      "{'id': 886, 'name': 'Animals'}\n",
      "{'id': 891, 'name': 'Apocalypse'}\n",
      "{'id': 896, 'name': 'Audio'}\n",
      "{'id': 901, 'name': 'Beauty'}\n",
      "{'id': 906, 'name': 'Beginning'}\n",
      "{'id': 911, 'name': 'Birds'}\n",
      "{'id': 916, 'name': 'Body'}\n",
      "{'id': 921, 'name': 'Brothers'}\n",
      "{'id': 926, 'name': 'Carpe Diem'}\n",
      "{'id': 931, 'name': 'Cats'}\n"
     ]
    },
    {
     "name": "stderr",
     "output_type": "stream",
     "text": [
      "/usr/local/lib/python3.6/site-packages/pandas/core/frame.py:6692: FutureWarning: Sorting because non-concatenation axis is not aligned. A future version\n",
      "of pandas will change to not sort by default.\n",
      "\n",
      "To accept the future behavior, pass 'sort=False'.\n",
      "\n",
      "To retain the current behavior and silence the warning, pass 'sort=True'.\n",
      "\n",
      "  sort=sort)\n"
     ]
    },
    {
     "name": "stdout",
     "output_type": "stream",
     "text": [
      "{'id': 936, 'name': 'Childhood'}\n",
      "{'id': 941, 'name': 'Cities'}\n",
      "{'id': 946, 'name': 'Clothing'}\n",
      "{'id': 951, 'name': 'Cooking'}\n",
      "{'id': 956, 'name': 'Creation'}\n",
      "{'id': 961, 'name': 'Dance'}\n",
      "{'id': 966, 'name': 'Daughters'}\n",
      "{'id': 971, 'name': 'Death'}\n",
      "{'id': 976, 'name': 'Desire'}\n",
      "{'id': 981, 'name': 'Divorce'}\n",
      "{'id': 986, 'name': 'Dogs'}\n",
      "{'id': 991, 'name': 'Dreams'}\n",
      "{'id': 996, 'name': 'Drinking'}\n",
      "{'id': 1001, 'name': 'Drugs'}\n",
      "{'id': 1006, 'name': 'Earth'}\n",
      "{'id': 1011, 'name': 'Eating'}\n",
      "{'id': 1016, 'name': 'Enemies'}\n",
      "{'id': 1021, 'name': 'Fathers'}\n",
      "{'id': 1026, 'name': 'Flight'}\n",
      "{'id': 1031, 'name': 'Flowers'}\n",
      "{'id': 1036, 'name': 'For Mom'}\n",
      "{'id': 1041, 'name': 'For Teens'}\n",
      "{'id': 1046, 'name': 'Friendship'}\n",
      "{'id': 1051, 'name': 'Future'}\n",
      "{'id': 1056, 'name': 'Gardens'}\n",
      "{'id': 1061, 'name': 'Gender'}\n",
      "{'id': 1066, 'name': 'Ghosts'}\n",
      "{'id': 1071, 'name': 'Gratitude'}\n",
      "{'id': 1076, 'name': 'Grief'}\n",
      "{'id': 1081, 'name': 'Happiness'}\n",
      "{'id': 1086, 'name': 'Heartache'}\n",
      "{'id': 1091, 'name': 'Heroes'}\n",
      "{'id': 1096, 'name': 'High School'}\n"
     ]
    }
   ],
   "source": [
    "poems = get_all_themes(themes)"
   ]
  },
  {
   "cell_type": "code",
   "execution_count": 81,
   "metadata": {},
   "outputs": [],
   "source": [
    "poems.to_json('theme_poems.json', orient='records')"
   ]
  },
  {
   "cell_type": "code",
   "execution_count": null,
   "metadata": {},
   "outputs": [],
   "source": []
  }
 ],
 "metadata": {
  "kernelspec": {
   "display_name": "Python 3",
   "language": "python",
   "name": "python3"
  },
  "language_info": {
   "codemirror_mode": {
    "name": "ipython",
    "version": 3
   },
   "file_extension": ".py",
   "mimetype": "text/x-python",
   "name": "python",
   "nbconvert_exporter": "python",
   "pygments_lexer": "ipython3",
   "version": "3.6.5"
  }
 },
 "nbformat": 4,
 "nbformat_minor": 2
}
